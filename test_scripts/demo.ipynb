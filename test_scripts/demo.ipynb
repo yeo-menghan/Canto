{
 "cells": [
  {
   "cell_type": "code",
   "execution_count": null,
   "metadata": {},
   "outputs": [],
   "source": [
    "! pip install torch transformers peft accelerate bitsandbytes\n",
    "! pip install gradio"
   ]
  },
  {
   "cell_type": "code",
   "execution_count": 7,
   "metadata": {},
   "outputs": [
    {
     "name": "stderr",
     "output_type": "stream",
     "text": [
      "Device set to use mps:0\n"
     ]
    },
    {
     "name": "stdout",
     "output_type": "stream",
     "text": [
      "* Running on local URL:  http://127.0.0.1:7863\n",
      "\n",
      "To create a public link, set `share=True` in `launch()`.\n"
     ]
    },
    {
     "data": {
      "text/html": [
       "<div><iframe src=\"http://127.0.0.1:7863/\" width=\"100%\" height=\"500\" allow=\"autoplay; camera; microphone; clipboard-read; clipboard-write;\" frameborder=\"0\" allowfullscreen></iframe></div>"
      ],
      "text/plain": [
       "<IPython.core.display.HTML object>"
      ]
     },
     "metadata": {},
     "output_type": "display_data"
    },
    {
     "data": {
      "text/plain": []
     },
     "execution_count": 7,
     "metadata": {},
     "output_type": "execute_result"
    },
    {
     "name": "stderr",
     "output_type": "stream",
     "text": [
      "/Users/yeo_menghan/Documents/SEP Academics/IERG4320/project/.venv/lib/python3.11/site-packages/transformers/models/whisper/generation_whisper.py:512: FutureWarning: The input name `inputs` is deprecated. Please make sure to use `input_features` instead.\n",
      "  warnings.warn(\n"
     ]
    }
   ],
   "source": [
    "from transformers import pipeline\n",
    "import gradio as gr\n",
    "\n",
    "# Load the Whisper model pipeline\n",
    "pipe = pipeline(\"automatic-speech-recognition\", model=\"Maverickz1989/openai-whisper-small-canto-colab\", return_timestamps=True)\n",
    "\n",
    "# Function to convert seconds to SRT time format\n",
    "def seconds_to_srt_time(seconds):\n",
    "    hours = int(seconds // 3600)\n",
    "    minutes = int((seconds % 3600) // 60)\n",
    "    secs = int(seconds % 60)\n",
    "    milliseconds = int((seconds - int(seconds)) * 1000)\n",
    "    return f\"{hours:02}:{minutes:02}:{secs:02},{milliseconds:03}\"\n",
    "\n",
    "# Generate SRT file from transcription\n",
    "def generate_srt(transcription):\n",
    "    srt_output = []\n",
    "    segments = transcription.get(\"chunks\", [])\n",
    "    for idx, segment in enumerate(segments):\n",
    "        start_time = seconds_to_srt_time(segment[\"timestamp\"][0])\n",
    "        end_time = seconds_to_srt_time(segment[\"timestamp\"][1])\n",
    "        text = segment[\"text\"]\n",
    "        srt_output.append(f\"{idx + 1}\\n{start_time} --> {end_time}\\n{text}\\n\")\n",
    "    return \"\\n\".join(srt_output)\n",
    "\n",
    "# Transcription function\n",
    "def transcribe(audio):\n",
    "    transcription = pipe(audio)\n",
    "    # Generate SRT formatted text\n",
    "    srt_text = generate_srt(transcription)\n",
    "    return transcription[\"text\"], srt_text\n",
    "\n",
    "# Gradio Interface\n",
    "iface = gr.Interface(\n",
    "    fn=transcribe,\n",
    "    inputs=gr.Audio(type=\"filepath\"),  # No 'source' argument; default behavior supports file upload or recording\n",
    "    outputs=[\n",
    "        gr.Textbox(label=\"Transcription\"),  # Plain text transcription\n",
    "        gr.Textbox(label=\"SRT File Content\"),  # SRT format text output\n",
    "    ],\n",
    "    title=\"Whisper Small Canto\",\n",
    "    description=\"Realtime demo for Canto speech recognition using a fine-tuned Whisper small model.\",\n",
    ")\n",
    "\n",
    "# Launch the interface\n",
    "iface.launch()"
   ]
  },
  {
   "cell_type": "code",
   "execution_count": 8,
   "metadata": {},
   "outputs": [
    {
     "name": "stdout",
     "output_type": "stream",
     "text": [
      "Closing server running on port: 7863\n"
     ]
    }
   ],
   "source": [
    "iface.close()"
   ]
  }
 ],
 "metadata": {
  "kernelspec": {
   "display_name": ".venv",
   "language": "python",
   "name": "python3"
  },
  "language_info": {
   "codemirror_mode": {
    "name": "ipython",
    "version": 3
   },
   "file_extension": ".py",
   "mimetype": "text/x-python",
   "name": "python",
   "nbconvert_exporter": "python",
   "pygments_lexer": "ipython3",
   "version": "3.11.6"
  }
 },
 "nbformat": 4,
 "nbformat_minor": 2
}
